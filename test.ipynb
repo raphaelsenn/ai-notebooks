{
 "cells": [
  {
   "cell_type": "code",
   "execution_count": 1,
   "metadata": {},
   "outputs": [
    {
     "name": "stdout",
     "output_type": "stream",
     "text": [
      "Example 0: [[0 0]], shape: (1, 2)\n",
      "Example 1: [[0 1]], shape: (1, 2)\n",
      "Example 2: [[1 0]], shape: (1, 2)\n",
      "Example 3: [[1 1]], shape: (1, 2)\n"
     ]
    }
   ],
   "source": [
    "import numpy as np\n",
    "\n",
    "# Training data\n",
    "X_train = np.array([[0, 0], [0, 1], [1, 0], [1, 1]])\n",
    "y_train = np.array([[0], [0], [0], [1]])\n",
    "\n",
    "# Iterate over the training data\n",
    "for i in range(len(X_train)):\n",
    "    example = X_train[i:i+1]  # Use slicing to get the row as a 2D array\n",
    "    print(f\"Example {i}: {example}, shape: {example.shape}\")\n",
    "\n",
    "# Iterate over the training data\n",
    "for i in range(len(X_train)):\n",
    "    example = X_train[i]  # Use slicing to get the row as a 2D array\n",
    "    print(f\"Example {i}: {example}, shape: {example.shape}\")"
   ]
  }
 ],
 "metadata": {
  "kernelspec": {
   "display_name": "Python 3",
   "language": "python",
   "name": "python3"
  },
  "language_info": {
   "codemirror_mode": {
    "name": "ipython",
    "version": 3
   },
   "file_extension": ".py",
   "mimetype": "text/x-python",
   "name": "python",
   "nbconvert_exporter": "python",
   "pygments_lexer": "ipython3",
   "version": "3.11.8"
  }
 },
 "nbformat": 4,
 "nbformat_minor": 2
}
