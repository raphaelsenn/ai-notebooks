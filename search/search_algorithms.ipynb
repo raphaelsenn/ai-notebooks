{
 "cells": [
  {
   "cell_type": "markdown",
   "metadata": {},
   "source": [
    "# Search algorithms"
   ]
  },
  {
   "cell_type": "markdown",
   "metadata": {},
   "source": [
    "## Creating a graph"
   ]
  },
  {
   "cell_type": "code",
   "execution_count": 1,
   "metadata": {},
   "outputs": [],
   "source": [
    "from typing import Any\n",
    "import heapq\n",
    "\n",
    "# Create the adjacency list\n",
    "adj_list = {'A': ['B', 'C'], 'B': ['D', 'E'], 'C': ['F', 'G'], 'D': [], 'E': [], 'F': [], 'G': []}"
   ]
  },
  {
   "cell_type": "markdown",
   "metadata": {},
   "source": [
    "### Helper functions."
   ]
  },
  {
   "cell_type": "code",
   "execution_count": 2,
   "metadata": {},
   "outputs": [],
   "source": [
    "# A simple backtracking algorithm.\n",
    "def backtrack(visited_from: dict[Any, Any], v_start: Any, v_target: Any) -> list[Any]:\n",
    "    v_current = v_target\n",
    "    path = [v_target]\n",
    "    while v_current != v_start:\n",
    "        v_current = visited_from[v_current]\n",
    "        path.append(v_current)\n",
    "    return path"
   ]
  },
  {
   "cell_type": "markdown",
   "metadata": {},
   "source": [
    "## Uninformed Search Methods\n",
    "Rigid procedure with no knowledge of the cost of a given node to the\n",
    "goal."
   ]
  },
  {
   "cell_type": "markdown",
   "metadata": {},
   "source": [
    "## Breadth first search"
   ]
  },
  {
   "cell_type": "code",
   "execution_count": 3,
   "metadata": {},
   "outputs": [],
   "source": [
    "def breadth_fist_search(G: dict[Any, Any], v_start: Any, v_target: Any, traversal_order: bool=False) -> list[Any]:\n",
    "    if traversal_order:\n",
    "        traversal = [] \n",
    "    \n",
    "    # Declare all vertices as unvisited. \n",
    "    visited = {v: False for v in G}\n",
    "    visited[v_start] = True\n",
    "    visited_from = dict()\n",
    "\n",
    "    queue = [v_start]\n",
    "    v_current = None\n",
    "    while len(queue) > 0:\n",
    "        v_current = queue.pop(0)\n",
    "        for v in G[v_current]:\n",
    "            if visited[v] is False:\n",
    "                queue.append(v)\n",
    "                visited[v] = True\n",
    "                visited_from[v] = v_current\n",
    "        if traversal_order: \n",
    "            traversal.append(v_current) \n",
    "    if traversal_order:\n",
    "        print(traversal)\n",
    "    return list(reversed(backtrack(visited_from, v_start, v_target)))"
   ]
  },
  {
   "cell_type": "code",
   "execution_count": 4,
   "metadata": {},
   "outputs": [
    {
     "name": "stdout",
     "output_type": "stream",
     "text": [
      "Path from A to G: ['A', 'C', 'G']  with cost 3\n"
     ]
    }
   ],
   "source": [
    "path = breadth_fist_search(adj_list, 'A', 'G')\n",
    "print(f\"Path from A to G: {path}  with cost {len(path)}\")"
   ]
  },
  {
   "cell_type": "code",
   "execution_count": 5,
   "metadata": {},
   "outputs": [
    {
     "name": "stdout",
     "output_type": "stream",
     "text": [
      "['A', 'B', 'C', 'D', 'E', 'F', 'G']\n"
     ]
    }
   ],
   "source": [
    "path = breadth_fist_search(adj_list, 'A', 'G', traversal_order=True)"
   ]
  },
  {
   "cell_type": "markdown",
   "metadata": {},
   "source": [
    "## Depth first search"
   ]
  },
  {
   "cell_type": "code",
   "execution_count": 6,
   "metadata": {},
   "outputs": [],
   "source": [
    "def depth_fist_search(G: dict[Any, Any], v_start: Any, v_target: Any, traversal_order: bool=False) -> list[Any]:\n",
    "    if traversal_order:\n",
    "        traversal = [] \n",
    "    \n",
    "    # Declare all vertices as unvisited. \n",
    "    visited = {v: False for v in G}\n",
    "    visited[v_start] = True\n",
    "    visited_from = dict()\n",
    "\n",
    "    queue = [v_start]\n",
    "    v_current = None\n",
    "    while len(queue) > 0:\n",
    "        v_current = queue.pop(-1)\n",
    "        for v in reversed(G[v_current]):\n",
    "            if visited[v] is False:\n",
    "                queue.append(v)\n",
    "                visited[v] = True\n",
    "                visited_from[v] = v_current\n",
    "        if traversal_order: \n",
    "            traversal.append(v_current) \n",
    "    if traversal_order:\n",
    "        print(traversal)\n",
    "    return list(reversed(backtrack(visited_from, v_start, v_target)))"
   ]
  },
  {
   "cell_type": "code",
   "execution_count": 7,
   "metadata": {},
   "outputs": [
    {
     "name": "stdout",
     "output_type": "stream",
     "text": [
      "Path from A to G: ['A', 'C', 'G']  with cost 3\n"
     ]
    }
   ],
   "source": [
    "path = depth_fist_search(adj_list, 'A', 'G')\n",
    "print(f\"Path from A to G: {path}  with cost {len(path)}\")"
   ]
  },
  {
   "cell_type": "code",
   "execution_count": 8,
   "metadata": {},
   "outputs": [
    {
     "name": "stdout",
     "output_type": "stream",
     "text": [
      "['A', 'B', 'D', 'E', 'C', 'F', 'G']\n"
     ]
    }
   ],
   "source": [
    "path = depth_fist_search(adj_list, 'A', 'G', traversal_order=True)"
   ]
  },
  {
   "cell_type": "markdown",
   "metadata": {},
   "source": [
    "## Informed Search Methods\n",
    "\n",
    "Knowledge of the worth of expanding a node n is given in the form of\n",
    "an evaluation function f(n), which assigns a real number to each node.\n",
    "Mostly, f(n) includes as a component a heuristic function h(n), which\n",
    "estimates the costs of the cheapest path from n to the goal.\n",
    "\n",
    "### Heuristics\n",
    "Informed search algorithms use a heuristic function h(n) that provides an estimate of the minimal cost from node n to the goal. This function helps the algorithm to prioritize which nodes to explore first based on their potential to lead to an optimal solution.\n",
    "\n",
    "#### Creating a Graph and a heuristic."
   ]
  },
  {
   "cell_type": "code",
   "execution_count": 9,
   "metadata": {},
   "outputs": [],
   "source": [
    "# Simple Graph.\n",
    "G = {'S': ['A', 'B', 'C'], 'A': [], 'B': ['D', 'H'], 'C': [], 'D': [], 'H': ['F', 'G'], 'F': [], 'G': ['E'], 'E': []}\n",
    "\n",
    "# Heuristic function.\n",
    "h = {'S': 10, 'A': 9, 'B': 1, 'C': 8, 'D': 8, 'H': 6, 'F': 6, 'G': 3, 'E': 0}"
   ]
  },
  {
   "cell_type": "markdown",
   "metadata": {},
   "source": [
    "### Greedy-Best-First Search\n",
    "A best-first search using h(n) as the evaluation function, i.e., f(n) = h(n) is called a greedy\n",
    "search.\n",
    "\n",
    "This search Algorithms only uses the heuristic to evalueate the path, it ignores real cost.\n",
    "\n",
    "#### Greedy Search - Properties\n",
    "* a good heuristic might reduce search time drastically\n",
    "* non-optimal\n",
    "* incomplete\n",
    "* graph-search version is complete only in finite spaces\n"
   ]
  },
  {
   "cell_type": "code",
   "execution_count": 10,
   "metadata": {},
   "outputs": [],
   "source": [
    "# Takes in: Graph G, heuristic h, start vertex and target vertex.\n",
    "def best_first_search(G: dict, h: dict, v_start: Any, v_target):\n",
    "    visited = {v: False for v in G}\n",
    "    visited[v_start] = True\n",
    "    track_path = {}\n",
    "\n",
    "    # Queue: (heuristic, vertex) \n",
    "    queue = []\n",
    "    heapq.heappush(queue, (h[v_start], v_start))\n",
    "    \n",
    "    while len(queue) > 0:\n",
    "        _, v_current = heapq.heappop(queue)\n",
    "        for v in G[v_current]:\n",
    "            if visited[v] is False:\n",
    "                visited[v] = True\n",
    "                heapq.heappush(queue, (h[v], v))\n",
    "                track_path[v] = v_current\n",
    "    path = list(reversed(backtrack(track_path, v_start, v_target)))\n",
    "    return path"
   ]
  },
  {
   "cell_type": "code",
   "execution_count": 11,
   "metadata": {},
   "outputs": [
    {
     "name": "stdout",
     "output_type": "stream",
     "text": [
      "Path: ['S', 'B', 'H', 'G', 'E']\n"
     ]
    }
   ],
   "source": [
    "path = best_first_search(G, h, v_start='S', v_target='E')\n",
    "print(f\"Path: {path}\")"
   ]
  },
  {
   "cell_type": "markdown",
   "metadata": {},
   "source": [
    "### $A^{*}$ Search Algorithm\n",
    "$A^{*}$ combines greedy search with the uniform-cost search:\n",
    "Always expand node with lowest f (n) first, where:\n",
    "\n",
    "* g(n) = actual cost from the initial state to n.\n",
    "* h(n) = estimated cost from n to the nearest goal.\n",
    "* f (n) = g(n) + h(n),\n",
    "\n",
    "the estimated cost of the cheapest solution through n"
   ]
  },
  {
   "cell_type": "code",
   "execution_count": 12,
   "metadata": {},
   "outputs": [],
   "source": [
    "# Simple Graph with weights.\n",
    "G = {'S': ['A', 'B', 'C'], 'A': [], 'B': ['D', 'H'], 'C': [], 'D': [], 'H': ['F', 'G'], 'F': [], 'G': ['E'], 'E': []}\n",
    "\n",
    "# Heuristic function.\n",
    "h = {'S': 10, 'A': 9, 'B': 1, 'C': 8, 'D': 8, 'H': 6, 'F': 6, 'G': 3, 'E': 0}"
   ]
  },
  {
   "cell_type": "code",
   "execution_count": 13,
   "metadata": {},
   "outputs": [],
   "source": [
    "\n",
    "\n",
    "# Takes in: Graph G, heuristic h, start vertex and target vertex.\n",
    "def A_Star(G: dict, h: dict, v_start: Any, v_target):\n",
    "    visited = {v: False for v in G}\n",
    "    visited[v_start] = True\n",
    "\n",
    "    track_path = {}\n",
    "\n",
    "    # Queue: (heuristic, vertex) \n",
    "    queue = []\n",
    "    heapq.heappush(queue, (h[v_start], v_start))\n",
    "    \n",
    "    while len(queue) > 0:\n",
    "        cost, v_current = heapq.heappop(queue)\n",
    "        for v, v_cost in G[v_current]:\n",
    "            if visited[v] is False:\n",
    "                visited[v] = True\n",
    "\n",
    "                # g(n) = actual cost (f(n)) + heuristic cost (h(n))\n",
    "                g = v_cost + h[v]\n",
    "                \n",
    "                heapq.heappush(queue, (g, v))\n",
    "                track_path[v] = (v_current, cost + h[v])\n",
    "    path = list(reversed(sorted(backtrack(track_path, v_start, v_target))))\n",
    "    return path"
   ]
  },
  {
   "cell_type": "code",
   "execution_count": 14,
   "metadata": {},
   "outputs": [
    {
     "name": "stdout",
     "output_type": "stream",
     "text": [
      "Path: ['S', 'B', 'H', 'G', 'E']\n"
     ]
    }
   ],
   "source": [
    "path = best_first_search(G, h, v_start='S', v_target='E')\n",
    "print(f\"Path: {path}\")"
   ]
  }
 ],
 "metadata": {
  "kernelspec": {
   "display_name": "Python 3",
   "language": "python",
   "name": "python3"
  },
  "language_info": {
   "codemirror_mode": {
    "name": "ipython",
    "version": 3
   },
   "file_extension": ".py",
   "mimetype": "text/x-python",
   "name": "python",
   "nbconvert_exporter": "python",
   "pygments_lexer": "ipython3",
   "version": "3.11.8"
  }
 },
 "nbformat": 4,
 "nbformat_minor": 2
}
