{
 "cells": [
  {
   "cell_type": "markdown",
   "metadata": {},
   "source": [
    "# Search algorithms"
   ]
  },
  {
   "cell_type": "markdown",
   "metadata": {},
   "source": [
    "## Creating a graph"
   ]
  },
  {
   "cell_type": "code",
   "execution_count": 17,
   "metadata": {},
   "outputs": [
    {
     "data": {
      "image/png": "[encoded data removed]",
      "text/plain": [
       "<Figure size 640x480 with 1 Axes>"
      ]
     },
     "metadata": {},
     "output_type": "display_data"
    }
   ],
   "source": [
    "import networkx as nx\n",
    "import matplotlib.pyplot as plt\n",
    "from typing import Any\n",
    "\n",
    "# Define the adjacency list\n",
    "adj_list = {'A': ['B', 'C'], 'B': ['D', 'E'], 'C': ['F', 'G'], 'D': [], 'E': [], 'F': [], 'G': []}\n",
    "\n",
    "# Create the graph\n",
    "G = nx.DiGraph(adj_list)\n",
    "\n",
    "# Define the position of each node manually\n",
    "pos = {\n",
    "    'A': (0, 3),\n",
    "    'B': (-1, 2),\n",
    "    'C': (1, 2),\n",
    "    'D': (-1.5, 1),\n",
    "    'E': (-0.5, 1),\n",
    "    'F': (0.5, 1),\n",
    "    'G': (1.5, 1),\n",
    "}\n",
    "\n",
    "# Draw the graph\n",
    "nx.draw(G, pos=pos, with_labels=True, node_color='skyblue', node_size=2000, font_size=16, font_color='black', font_weight='bold', edge_color='gray')\n",
    "plt.show()"
   ]
  },
  {
   "cell_type": "code",
   "execution_count": 18,
   "metadata": {},
   "outputs": [],
   "source": [
    "def backtrack(visited_from: dict[Any, Any], v_start: Any, v_target: Any) -> list[Any]:\n",
    "    v_current = v_target\n",
    "    path = [v_target]\n",
    "    while v_current != v_start:\n",
    "        v_current = visited_from[v_current]\n",
    "        path.append(v_current)\n",
    "    return path"
   ]
  },
  {
   "cell_type": "markdown",
   "metadata": {},
   "source": [
    "## Breadth first search"
   ]
  },
  {
   "cell_type": "code",
   "execution_count": 19,
   "metadata": {},
   "outputs": [],
   "source": [
    "def breadth_fist_search(G: dict[Any, Any], v_start: Any, v_target: Any, traversal_order: bool=False) -> list[Any]:\n",
    "    if traversal_order:\n",
    "        traversal = [] \n",
    "    \n",
    "    # Declare all vertices as unvisited. \n",
    "    visited = {v: False for v in G}\n",
    "    visited[v_start] = True\n",
    "    visited_from = dict()\n",
    "\n",
    "    queue = [v_start]\n",
    "    v_current = None\n",
    "    while len(queue) > 0:\n",
    "        v_current = queue.pop(0)\n",
    "        for v in G[v_current]:\n",
    "            if visited[v] is False:\n",
    "                queue.append(v)\n",
    "                visited[v] = True\n",
    "                visited_from[v] = v_current\n",
    "        if traversal_order: \n",
    "            traversal.append(v_current) \n",
    "    if traversal_order:\n",
    "        print(traversal)\n",
    "    return list(reversed(backtrack(visited_from, v_start, v_target)))"
   ]
  },
  {
   "cell_type": "code",
   "execution_count": 20,
   "metadata": {},
   "outputs": [
    {
     "name": "stdout",
     "output_type": "stream",
     "text": [
      "Path from A to G: ['A', 'C', 'G']  with cost 3\n"
     ]
    }
   ],
   "source": [
    "path = breadth_fist_search(adj_list, 'A', 'G')\n",
    "print(f\"Path from A to G: {path}  with cost {len(path)}\")"
   ]
  },
  {
   "cell_type": "code",
   "execution_count": 21,
   "metadata": {},
   "outputs": [
    {
     "name": "stdout",
     "output_type": "stream",
     "text": [
      "['A', 'B', 'C', 'D', 'E', 'F', 'G']\n"
     ]
    }
   ],
   "source": [
    "path = breadth_fist_search(adj_list, 'A', 'G', traversal_order=True)"
   ]
  },
  {
   "cell_type": "markdown",
   "metadata": {},
   "source": [
    "## Depth first search"
   ]
  },
  {
   "cell_type": "code",
   "execution_count": 22,
   "metadata": {},
   "outputs": [],
   "source": [
    "def depth_fist_search(G: dict[Any, Any], v_start: Any, v_target: Any, traversal_order: bool=False) -> list[Any]:\n",
    "    if traversal_order:\n",
    "        traversal = [] \n",
    "    \n",
    "    # Declare all vertices as unvisited. \n",
    "    visited = {v: False for v in G}\n",
    "    visited[v_start] = True\n",
    "    visited_from = dict()\n",
    "\n",
    "    queue = [v_start]\n",
    "    v_current = None\n",
    "    while len(queue) > 0:\n",
    "        v_current = queue.pop(-1)\n",
    "        for v in reversed(G[v_current]):\n",
    "            if visited[v] is False:\n",
    "                queue.append(v)\n",
    "                visited[v] = True\n",
    "                visited_from[v] = v_current\n",
    "        if traversal_order: \n",
    "            traversal.append(v_current) \n",
    "    if traversal_order:\n",
    "        print(traversal)\n",
    "    return list(reversed(backtrack(visited_from, v_start, v_target)))"
   ]
  },
  {
   "cell_type": "code",
   "execution_count": 23,
   "metadata": {},
   "outputs": [
    {
     "name": "stdout",
     "output_type": "stream",
     "text": [
      "Path from A to G: ['A', 'C', 'G']  with cost 3\n"
     ]
    }
   ],
   "source": [
    "path = depth_fist_search(adj_list, 'A', 'G')\n",
    "print(f\"Path from A to G: {path}  with cost {len(path)}\")"
   ]
  },
  {
   "cell_type": "code",
   "execution_count": 24,
   "metadata": {},
   "outputs": [
    {
     "name": "stdout",
     "output_type": "stream",
     "text": [
      "['A', 'B', 'D', 'E', 'C', 'F', 'G']\n"
     ]
    }
   ],
   "source": [
    "path = depth_fist_search(adj_list, 'A', 'G', traversal_order=True)"
   ]
  }
 ],
 "metadata": {
  "kernelspec": {
   "display_name": "Python 3",
   "language": "python",
   "name": "python3"
  },
  "language_info": {
   "codemirror_mode": {
    "name": "ipython",
    "version": 3
   },
   "file_extension": ".py",
   "mimetype": "text/x-python",
   "name": "python",
   "nbconvert_exporter": "python",
   "pygments_lexer": "ipython3",
   "version": "3.11.8"
  }
 },
 "nbformat": 4,
 "nbformat_minor": 2
}
