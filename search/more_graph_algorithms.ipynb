{
 "cells": [
  {
   "cell_type": "markdown",
   "metadata": {},
   "source": [
    "# Reachability"
   ]
  },
  {
   "cell_type": "code",
   "execution_count": 27,
   "metadata": {},
   "outputs": [
    {
     "data": {
      "image/png": "[encoded data removed]",
      "text/plain": [
       "<Figure size 640x480 with 1 Axes>"
      ]
     },
     "metadata": {},
     "output_type": "display_data"
    }
   ],
   "source": [
    "import networkx as nx\n",
    "import matplotlib.pyplot as plt\n",
    "from typing import Any\n",
    "\n",
    "# Define the adjacency list\n",
    "adj_list = {'A': ['B', 'C'], 'B': ['D', 'E'], 'C': ['F', 'G'], 'D': [], 'E': ['B'], 'F': [], 'G': []}\n",
    "\n",
    "# Create the graph\n",
    "G = nx.DiGraph(adj_list)\n",
    "\n",
    "# Define the position of each node manually\n",
    "pos = {\n",
    "    'A': (0, 3),\n",
    "    'B': (-1, 2),\n",
    "    'C': (1, 2),\n",
    "    'D': (-1.5, 1),\n",
    "    'E': (-0.5, 1),\n",
    "    'F': (0.5, 1),\n",
    "    'G': (1.5, 1),\n",
    "}\n",
    "\n",
    "# Draw the graph\n",
    "nx.draw(G, pos=pos, with_labels=True, node_color='skyblue', node_size=2000, font_size=16, font_color='black', font_weight='bold', edge_color='gray')\n",
    "plt.show()"
   ]
  },
  {
   "cell_type": "markdown",
   "metadata": {},
   "source": [
    "## With bfs"
   ]
  },
  {
   "cell_type": "code",
   "execution_count": 28,
   "metadata": {},
   "outputs": [],
   "source": [
    "def bfs(G: dict[Any, Any], v_start: Any, v_target: Any, traversal_order: bool=False) -> bool:\n",
    "    if v_start == v_target:\n",
    "        return True \n",
    "    # Declare all vertices as unvisited. \n",
    "    visited = {v: False for v in G}\n",
    "    visited[v_start] = True\n",
    "\n",
    "    queue = [v_start]\n",
    "    while len(queue) > 0:\n",
    "        v_current = queue.pop(0)\n",
    "        for v in G[v_current]:\n",
    "            if v == v_target:\n",
    "                return True\n",
    "            if visited[v] is False: \n",
    "                queue.append(v)\n",
    "                visited[v] = True\n",
    "    return False"
   ]
  },
  {
   "cell_type": "code",
   "execution_count": 29,
   "metadata": {},
   "outputs": [
    {
     "name": "stdout",
     "output_type": "stream",
     "text": [
      "E is reachable from A: True\n",
      "D is reachable from E: True\n",
      "A is reachable from E: False\n"
     ]
    }
   ],
   "source": [
    "print(f\"E is reachable from A: {bfs(G, 'A', 'E')}\")\n",
    "print(f\"D is reachable from E: {bfs(G, 'E', 'D')}\")\n",
    "print(f\"A is reachable from E: {bfs(G, 'E', 'A')}\")"
   ]
  },
  {
   "cell_type": "markdown",
   "metadata": {},
   "source": [
    "## With dfs"
   ]
  },
  {
   "cell_type": "code",
   "execution_count": 30,
   "metadata": {},
   "outputs": [],
   "source": [
    "def dfs(G: dict[Any, Any], v_start: Any, v_target: Any, traversal_order: bool=False) -> bool:\n",
    "    if v_start == v_target:\n",
    "        return True \n",
    "    # Declare all vertices as unvisited. \n",
    "    visited = {v: False for v in G}\n",
    "    visited[v_start] = True\n",
    "\n",
    "    queue = [v_start]\n",
    "    while len(queue) > 0:\n",
    "        v_current = queue.pop(-1)\n",
    "        for v in reversed(G[v_current]):\n",
    "            if v == v_target:\n",
    "                return True\n",
    "            if visited[v] is False: \n",
    "                queue.append(v)\n",
    "                visited[v] = True\n",
    "    return False"
   ]
  },
  {
   "cell_type": "code",
   "execution_count": 31,
   "metadata": {},
   "outputs": [
    {
     "name": "stdout",
     "output_type": "stream",
     "text": [
      "E is reachable from A: True\n",
      "D is reachable from E: True\n",
      "A is reachable from E: False\n"
     ]
    }
   ],
   "source": [
    "print(f\"E is reachable from A: {bfs(G, 'A', 'E')}\")\n",
    "print(f\"D is reachable from E: {bfs(G, 'E', 'D')}\")\n",
    "print(f\"A is reachable from E: {bfs(G, 'E', 'A')}\")"
   ]
  },
  {
   "cell_type": "markdown",
   "metadata": {},
   "source": [
    "## Dominators"
   ]
  },
  {
   "cell_type": "code",
   "execution_count": 32,
   "metadata": {},
   "outputs": [],
   "source": [
    "adj_list = {\n",
    "    'R': ['A', 'B', 'C', 'D', 'E', 'H', 'I'],\n",
    "    'A': [],\n",
    "    'B': [],\n",
    "    'C': ['F', 'G'],\n",
    "    'D': ['L'],\n",
    "    'E': [],\n",
    "    'F': [],\n",
    "    'G': ['J'],\n",
    "    'H': [],\n",
    "    'I': [],\n",
    "    'J': [],\n",
    "    'K': [],\n",
    "    'L': []\n",
    "}"
   ]
  },
  {
   "cell_type": "code",
   "execution_count": 33,
   "metadata": {},
   "outputs": [],
   "source": [
    "def dom_graph(G: dict, root: Any):\n",
    "    S = set()\n",
    "    for v in G:\n",
    "        if v != root:\n",
    "            if bfs(G, root, v) is True:\n",
    "                S.add(v)\n",
    "         \n",
    "    \n",
    "    return S\n"
   ]
  },
  {
   "cell_type": "code",
   "execution_count": 34,
   "metadata": {},
   "outputs": [
    {
     "name": "stdout",
     "output_type": "stream",
     "text": [
      "{'F', 'I', 'E', 'L', 'D', 'G', 'B', 'J', 'C', 'H', 'A'}\n"
     ]
    }
   ],
   "source": [
    "print(dom_graph(adj_list, 'R'))"
   ]
  },
  {
   "cell_type": "code",
   "execution_count": null,
   "metadata": {},
   "outputs": [],
   "source": []
  }
 ],
 "metadata": {
  "kernelspec": {
   "display_name": "Python 3",
   "language": "python",
   "name": "python3"
  },
  "language_info": {
   "codemirror_mode": {
    "name": "ipython",
    "version": 3
   },
   "file_extension": ".py",
   "mimetype": "text/x-python",
   "name": "python",
   "nbconvert_exporter": "python",
   "pygments_lexer": "ipython3",
   "version": "3.11.8"
  }
 },
 "nbformat": 4,
 "nbformat_minor": 2
}
