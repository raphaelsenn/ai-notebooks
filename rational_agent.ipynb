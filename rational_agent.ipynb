{
 "cells": [
  {
   "cell_type": "markdown",
   "metadata": {},
   "source": [
    "# AGENTS\n",
    "\n",
    "## Topics\n",
    "\n",
    "* What is an agent?\n",
    "* Intelligent agents\n",
    "* Rational agents\n",
    "* Rationallity\n",
    "* Structure of an AI agent\n",
    "* PEAS Representation\n",
    "* Agent environment in AI\n",
    "* Example implementation of vacuum cleaner\n",
    "\n",
    "## What is a agent?\n",
    "\n",
    "A agent is anything, that percives and acts.\n",
    "\n",
    "* A agent perveives the environment through sensors (-> Percepts)\n",
    "* A agent acts upon the environment through actuators (-> Actions)\n",
    "\n",
    "![image info](./images/agent.png)\n",
    "\n",
    "## Intelligent agents"
   ]
  }
 ],
 "metadata": {
  "language_info": {
   "name": "python"
  }
 },
 "nbformat": 4,
 "nbformat_minor": 2
}
