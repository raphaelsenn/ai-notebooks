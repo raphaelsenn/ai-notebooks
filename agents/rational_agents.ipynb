{
 "cells": [
  {
   "cell_type": "markdown",
   "metadata": {},
   "source": [
    "# RATIONAL AGENTS\n",
    "\n",
    "## Rational Agents\n",
    "\n",
    "### Definition: Rational agent\n",
    "For each possible percept sequence, a rational agent should select an action that is expected to maximize its performance measure, given the evidence provided by the percept sequence and whatever built-in knowledge the agent has.\n",
    "\n",
    "#### Rationality:\n",
    "The rationality of an agent is measured by its performance measures. Rationality can be judged on the basis of follwoing points:\n",
    "\n",
    "* Performance measures (goals)\n",
    "* Percept sequences\n",
    "* Knowledge of the environment\n",
    "* Possible actions\n",
    "\n",
    "An ideal rational agent acts upon the function:\n",
    "\n",
    "| Percept Sequence x Word Knowledge -> Action |\n",
    "| --------------------------------------------|\n",
    "\n",
    "#### Examples:\n",
    "\n",
    "| Agent Type | Performance Measures | Environment | Actuators | Sensors |\n",
    "| ----------------- | ------------------- | ----------- | ----------- | ------------ |\n",
    "| vacuum cleaner  | cleanness, battery life, efficency | room, carpet, wood floor, obstacles | wheels, brushes, vacuum extractor | camera, dirt sensor, infrared sensor |\n",
    "| medical diagnose system  | healthy patient, minimize costs | hospital, patient, staff | tests, treatments | keyboard (typing in symptoms) |\n",
    "\n",
    "\n",
    "### Structure of rational agents\n",
    "\n",
    "Realization of a rational agent through an\n",
    " * Agent program, executed on an\n",
    " * Architecture which also provides an interface to the environment (percepts, actions)\n",
    "\n",
    "| Agent = Architecture + Program |\n",
    "| --------------------------------------------|\n",
    "\n",
    "## Different classes of agents\n",
    " * Table-Driven agents\n",
    " * Simple Reflex agents\n",
    " * Model based reflex agents"
   ]
  },
  {
   "cell_type": "markdown",
   "metadata": {},
   "source": [
    "### Table driven agents\n",
    "\n",
    "![image](../images/table_driven_agent.png)\n",
    "\n",
    "#### Problem: The tables can become very large and it would take much time to design it for harder problems... practically impossible."
   ]
  },
  {
   "cell_type": "code",
   "execution_count": 31,
   "metadata": {},
   "outputs": [
    {
     "name": "stdout",
     "output_type": "stream",
     "text": [
      "Environment: [('A', 'dirty'), ('B', 'dirty')]\n"
     ]
    }
   ],
   "source": [
    "table = {('A', 'clean'): 'right', \n",
    "         ('A', 'dirty'): 'clean',\n",
    "         ('B', 'clean'): 'left',\n",
    "         ('B', 'dirty'): 'clean'}\n",
    "\n",
    "environment = [('A', 'dirty'), ('B', 'dirty')]\n",
    "print(f\"Environment: {environment}\")"
   ]
  },
  {
   "cell_type": "code",
   "execution_count": 32,
   "metadata": {},
   "outputs": [
    {
     "name": "stdout",
     "output_type": "stream",
     "text": [
      "Percepts: [('A', 'dirty')]\n",
      "Actions: ['clean']\n"
     ]
    }
   ],
   "source": [
    "from agents import TableDrivenAgent\n",
    "\n",
    "VacuumCleaner = TableDrivenAgent(table, environment)\n",
    "\n",
    "action = VacuumCleaner.act(environment[0])\n",
    "\n",
    "print(f\"Percepts: {VacuumCleaner.percepts}\")\n",
    "print(f\"Actions: {VacuumCleaner.actions}\")"
   ]
  },
  {
   "cell_type": "code",
   "execution_count": 33,
   "metadata": {},
   "outputs": [],
   "source": [
    "percepts = []\n",
    "\n",
    "def lookup(percepts, table):\n",
    "    action = table[percepts]\n",
    "    return action\n",
    "\n",
    "def table_driven_agent(percept):\n",
    "    percepts.append(percept)\n",
    "    action = lookup(percept, table)\n",
    "    return action"
   ]
  },
  {
   "cell_type": "code",
   "execution_count": 34,
   "metadata": {},
   "outputs": [
    {
     "name": "stdout",
     "output_type": "stream",
     "text": [
      "Percepts\tAction\n",
      "('A', 'dirty')\tclean\n",
      "('A', 'clean')\tright\n",
      "('B', 'dirty')\tclean\n",
      "('B', 'clean')\tleft\n",
      "[('A', 'dirty'), ('A', 'clean'), ('B', 'dirty'), ('B', 'clean')]\n"
     ]
    }
   ],
   "source": [
    "def run():\n",
    "    print('Percepts\\tAction')\n",
    "\n",
    "    # Possible scenario: \n",
    "    percept = ('A', 'dirty') \n",
    "    action = table_driven_agent(percept)\n",
    "    print(f\"{percept}\\t{action}\")\n",
    "\n",
    "    percept = ('A', 'clean') \n",
    "    action = table_driven_agent(percept)\n",
    "    print(f\"{percept}\\t{action}\")\n",
    "\n",
    "    percept = ('B', 'dirty') \n",
    "    action = table_driven_agent(percept)\n",
    "    print(f\"{percept}\\t{action}\")\n",
    "\n",
    "    percept = ('B', 'clean') \n",
    "    action = table_driven_agent(percept)\n",
    "    print(f\"{percept}\\t{action}\")\n",
    "run()\n",
    "print(percepts)"
   ]
  },
  {
   "cell_type": "markdown",
   "metadata": {},
   "source": [
    "### Simple Reflex Agent\n",
    "\n",
    "\n",
    "![image](../images/simple_reflex_agent1.png)\n",
    "\n",
    "Direct use of perceptions is often not possible due to the large space required to store them (e.g., video images).\n",
    "\n",
    "Input therefore is often interpreted before decisions are made.\n",
    "\n",
    "![image](../images/simple_reflex_agent.png)"
   ]
  },
  {
   "cell_type": "code",
   "execution_count": 35,
   "metadata": {},
   "outputs": [
    {
     "name": "stdout",
     "output_type": "stream",
     "text": [
      "Environment: ['dirty', 'dirty', 'dirty', 'dirty', 'clean', 'dirty']\n"
     ]
    }
   ],
   "source": [
    "from agents import SimpleReflexAgent\n",
    "import random\n",
    "\n",
    "states = ['clean', 'dirty', 'dirty']\n",
    "environment = [random.choice(states) for _ in range(6)]\n",
    "\n",
    "# Environment bevore\n",
    "print(f\"Environment: {environment}\")"
   ]
  },
  {
   "cell_type": "code",
   "execution_count": 36,
   "metadata": {},
   "outputs": [
    {
     "name": "stdout",
     "output_type": "stream",
     "text": [
      "Environment: ['clean', 'clean', 'clean', 'clean', 'clean', 'clean']\n"
     ]
    }
   ],
   "source": [
    "# Creating a Vacuum Cleaner Agent\n",
    "VacuumCleaner = SimpleReflexAgent(start_location=0, environment=environment)\n",
    "\n",
    "# Lets clean the floor\n",
    "for _ in range(6):\n",
    "    VacuumCleaner.act()\n",
    "\n",
    "# Environment after\n",
    "print(f\"Environment: {VacuumCleaner.environment}\")"
   ]
  }
 ],
 "metadata": {
  "kernelspec": {
   "display_name": "Python 3",
   "language": "python",
   "name": "python3"
  },
  "language_info": {
   "codemirror_mode": {
    "name": "ipython",
    "version": 3
   },
   "file_extension": ".py",
   "mimetype": "text/x-python",
   "name": "python",
   "nbconvert_exporter": "python",
   "pygments_lexer": "ipython3",
   "version": "3.11.8"
  }
 },
 "nbformat": 4,
 "nbformat_minor": 2
}
