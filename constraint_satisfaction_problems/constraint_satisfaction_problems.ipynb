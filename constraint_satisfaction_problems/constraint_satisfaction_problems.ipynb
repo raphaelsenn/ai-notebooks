{
 "cells": [
  {
   "cell_type": "markdown",
   "metadata": {},
   "source": [
    "# Constraint Satisfaction Problems\n",
    "\n",
    "A Constraint Satisfaction Problems (CSP) is given by\n",
    "a set of variables {$x_1, x_2, ..., x_n$},an associated set of value domains {$d_1, d_2, . . . , d_n$}, and\n",
    "a set of constraints. i.e., relations, over the variables.\n",
    "\n",
    "A solution to the CSP is a complete assignment of values to variables\n",
    "that satisfies all constraints.\n",
    "\n",
    "If CSPs are viewed as search problems, states are explicitly represented\n",
    "as variable assignments. CSP search algorithms take advantage of this\n",
    "structure.\n",
    "\n",
    "The main idea is to exploit the constraints to eliminate large portions of\n",
    "search space.\n",
    "\n",
    "### Example: Map Colering\n",
    "\n",
    "![image](../images/csp.png)\n",
    "\n",
    "* Variables: WA, NT, SA, Q, NSW, V, T\n",
    "* Values: {red, green, blue}\n",
    "* Constraints: adjacent regions must have different colors\n",
    "\n",
    "![image](../images/cspsolution.png)\n",
    "\n",
    "* Solution assignment: {WA=red, NT=green, Q=red, NSW=green, SA=blue, T=green}\n",
    "\n",
    "## Constraint Graph\n",
    "A constraint graph can be used to visualize binary constraints.\n",
    "\n",
    "* Vertices = variables, edges = constraints\n",
    "\n",
    "For higher constraints, hyper-graph representations might be usefull.\n",
    "\n",
    "![image](../images/cspgraph.png)\n",
    "\n",
    "## Solving CSP's\n",
    "\n",
    "### Algorithm: Backtracking Search over Assignments\n",
    "DFS with single-variable assignments is called backtracking search\n",
    "\n",
    "![image](../images/cspdfs.png)\n",
    "\n",
    "#### Solving this CSP in python."
   ]
  },
  {
   "cell_type": "code",
   "execution_count": 188,
   "metadata": {},
   "outputs": [],
   "source": [
    "import copy\n",
    "\n",
    "# Ignoring T\n",
    "CSP_GRAPH = {'WA': ['NT','SA'],\n",
    "             'NT': [ 'WA', 'SA', 'Q'], \n",
    "             'SA': ['WA',  'NT', 'Q', 'NSW', 'V'],\n",
    "             'Q':  ['NT', 'SA', 'NSW'],\n",
    "             'NSW':['Q', 'SA', 'V'],\n",
    "             'V': ['SA', 'NSW']}\n",
    "COLORS = ['red', 'blue', 'green']\n",
    "assignment = {v: None for v in CSP_GRAPH}"
   ]
  },
  {
   "cell_type": "code",
   "execution_count": 189,
   "metadata": {},
   "outputs": [],
   "source": [
    "def is_valid(assignment, v, color, csp) -> bool:\n",
    "    for neighbor in csp[v]:\n",
    "        if assignment[neighbor] == color:\n",
    "            return False\n",
    "    return True\n",
    "\n",
    "def backtrack(assignment, csp):\n",
    "    v_start = list(assignment.keys())[0]\n",
    "\n",
    "    visited = {v: False for v in csp}\n",
    "    queue = [(v_start, 0)]\n",
    "\n",
    "    visited = {v:False for v in csp}\n",
    "    visited[v_start] = True \n",
    "    queue = [v_start]\n",
    "    assignment[v_start] = COLORS[0]\n",
    "    while len(queue) > 0:\n",
    "        v_current = queue.pop(-1)\n",
    "        for v in csp[v_current]:\n",
    "            if visited[v] == False:\n",
    "                for color in COLORS: \n",
    "                    if is_valid(assignment, v, color, csp):\n",
    "                        assignment[v] = color \n",
    "                visited[v] = True\n",
    "                queue.append(v)\n",
    "    return assignment"
   ]
  },
  {
   "cell_type": "code",
   "execution_count": 190,
   "metadata": {},
   "outputs": [
    {
     "name": "stdout",
     "output_type": "stream",
     "text": [
      "{'WA': 'red', 'NT': 'green', 'SA': 'blue', 'Q': 'red', 'NSW': 'green', 'V': 'red'}\n"
     ]
    }
   ],
   "source": [
    "print(dfs_graph_colering())"
   ]
  },
  {
   "cell_type": "markdown",
   "metadata": {},
   "source": [
    "### Algorithm: Most Constraining Variable First\n",
    "Most constrained variable:\n",
    "choose the variable with the fewest remaining legal values\n",
    "* detect failure early!\n",
    "* reduces branching factor directly!\n",
    "\n",
    "![image](../images/csp_mostconfirst.png)"
   ]
  },
  {
   "cell_type": "markdown",
   "metadata": {},
   "source": [
    "#### How to select the vertex with the fewest neighbours?"
   ]
  },
  {
   "cell_type": "code",
   "execution_count": 191,
   "metadata": {},
   "outputs": [
    {
     "name": "stdout",
     "output_type": "stream",
     "text": [
      "[(5, 'SA'), (3, 'NT'), (3, 'Q'), (3, 'NSW'), (2, 'WA'), (2, 'V')]\n"
     ]
    }
   ],
   "source": [
    "csp_fewest = [(len(CSP_GRAPH[v]), v) for v in CSP_GRAPH]\n",
    "csp_fewest = sorted(csp_fewest, key=lambda x: x[0], reverse=True)\n",
    "print(csp_fewest)"
   ]
  },
  {
   "cell_type": "code",
   "execution_count": 192,
   "metadata": {},
   "outputs": [],
   "source": [
    "def is_valid(assignment, v, color, csp) -> bool:\n",
    "    for neighbor in csp[v]:\n",
    "        if assignment[neighbor] == color:\n",
    "            return False\n",
    "    return True\n",
    "\n",
    "def most_constraint_first(assignment, csp):\n",
    "    csp_fewest = [(len(csp[v]), v) for v in csp]\n",
    "    csp_fewest = sorted(csp_fewest, key=lambda x: x[0])\n",
    "    v_start = csp_fewest[0][1]\n",
    "    visited = {v:False for v in csp}\n",
    "    visited[v_start] = True \n",
    "    queue = [v_start]\n",
    "    assignment[v_start] = COLORS[0]\n",
    "    while len(queue) > 0:\n",
    "        v_current = queue.pop(-1)\n",
    "        for v in csp[v_current]:\n",
    "            if visited[v] == False:\n",
    "                for color in COLORS: \n",
    "                    if is_valid(assignment, v, color, csp):\n",
    "                        assignment[v] = color \n",
    "                visited[v] = True\n",
    "                queue.append(v)\n",
    "    return assignment\n"
   ]
  },
  {
   "cell_type": "code",
   "execution_count": 193,
   "metadata": {},
   "outputs": [
    {
     "data": {
      "text/plain": [
       "{'WA': 'red',\n",
       " 'NT': 'green',\n",
       " 'SA': 'blue',\n",
       " 'Q': 'red',\n",
       " 'NSW': 'green',\n",
       " 'V': 'red'}"
      ]
     },
     "execution_count": 193,
     "metadata": {},
     "output_type": "execute_result"
    }
   ],
   "source": [
    "most_constraint_first(assignment, CSP_GRAPH)"
   ]
  }
 ],
 "metadata": {
  "kernelspec": {
   "display_name": "Python 3",
   "language": "python",
   "name": "python3"
  },
  "language_info": {
   "codemirror_mode": {
    "name": "ipython",
    "version": 3
   },
   "file_extension": ".py",
   "mimetype": "text/x-python",
   "name": "python",
   "nbconvert_exporter": "python",
   "pygments_lexer": "ipython3",
   "version": "3.11.8"
  }
 },
 "nbformat": 4,
 "nbformat_minor": 2
}
