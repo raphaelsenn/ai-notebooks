{
 "cells": [
  {
   "cell_type": "markdown",
   "metadata": {},
   "source": [
    "# Constraint Satisfaction Problems\n",
    "\n",
    "A Constraint Satisfaction Problems (CSP) is given by\n",
    "a set of variables {$x_1, x_2, ..., x_n$},an associated set of value domains {$d_1, d_2, . . . , d_n$}, and\n",
    "a set of constraints. i.e., relations, over the variables.\n",
    "\n",
    "A solution to the CSP is a complete assignment of values to variables\n",
    "that satisfies all constraints.\n",
    "\n",
    "If CSPs are viewed as search problems, states are explicitly represented\n",
    "as variable assignments. CSP search algorithms take advantage of this\n",
    "structure.\n",
    "\n",
    "The main idea is to exploit the constraints to eliminate large portions of\n",
    "search space.\n",
    "\n",
    "### Example: Map Colering\n",
    "\n",
    "![image](../images/csp.png)\n",
    "\n",
    "* Variables: WA, NT, SA, Q, NSW, V, T\n",
    "* Values: {red, green, blue}\n",
    "* Constraints: adjacent regions must have different colors\n",
    "\n",
    "![image](../images/cspsolution.png)\n",
    "\n",
    "* Solution assignment: {WA=red, NT=green, Q=red, NSW=green, SA=blue, T=green}\n",
    "\n",
    "## Constraint Graph\n",
    "A constraint graph can be used to visualize binary constraints.\n",
    "\n",
    "* Vertices = variables, edges = constraints\n",
    "\n",
    "For higher constraints, hyper-graph representations might be usefull.\n",
    "\n",
    "![image](../images/cspgraph.png)\n",
    "\n",
    "## Solving CSP's\n",
    "\n",
    "### Algorithm: Backtracking Search over Assignments\n",
    "DFS with single-variable assignments is called backtracking search\n",
    "\n",
    "![image](../images/cspdfs.png)\n",
    "\n",
    "#### Solving this CSP in python."
   ]
  },
  {
   "cell_type": "code",
   "execution_count": 25,
   "metadata": {},
   "outputs": [],
   "source": [
    "import copy\n",
    "\n",
    "# Ignoring T\n",
    "CSP_GRAPH = {'WA': ['NT','SA'],\n",
    "             'NT': [ 'WA', 'SA', 'Q'], \n",
    "             'SA': ['WA',  'NT', 'Q', 'NSW', 'V'],\n",
    "             'Q':  ['NT', 'SA', 'NSW'],\n",
    "             'NSW':['Q', 'SA', 'V'],\n",
    "             'V': ['SA', 'NSW']}\n",
    "COLORS = ['red', 'green', 'blue']\n",
    "assignment = {v: None for v in CSP_GRAPH}"
   ]
  },
  {
   "cell_type": "code",
   "execution_count": 26,
   "metadata": {},
   "outputs": [],
   "source": [
    "def is_valid(assignment, v, color, csp) -> bool:\n",
    "    for neighbor in csp[v]:\n",
    "        if assignment[neighbor] == color:\n",
    "            return False\n",
    "    return True\n",
    "\n",
    "def backtrack(assignment, csp):\n",
    "    solution = copy.deepcopy(assignment)\n",
    "    \n",
    "    v_start = list(assignment.keys())[0]\n",
    "\n",
    "    visited = {v: False for v in csp}\n",
    "    queue = [(v_start, 0)]\n",
    "\n",
    "    visited[v_start] = True\n",
    "    solution[v_start] = COLORS[0]\n",
    "    # print(f\"Assigned {COLORS[0]} to {v_start}\")\n",
    "\n",
    "    while queue:\n",
    "        v_current, color_idx = queue.pop()\n",
    "        \n",
    "        if color_idx < len(COLORS):\n",
    "            solution[v_current] = COLORS[color_idx]\n",
    "\n",
    "            if is_valid(solution, v_current, COLORS[color_idx], csp):\n",
    "                # print(f\"Assigned {COLORS[color_idx]} to {v_current}\")\n",
    "                \n",
    "                for neighbor in csp[v_current]:\n",
    "                    if not visited[neighbor]:\n",
    "                        queue.append((neighbor, 0))\n",
    "                        visited[neighbor] = True\n",
    "            else:\n",
    "                queue.append((v_current, color_idx + 1))\n",
    "        else:\n",
    "            # print(f\"Backtracking on {v_current}\")\n",
    "            solution[v_current] = None\n",
    "            visited[v_current] = False\n",
    "    return solution\n",
    "\n",
    "def backtrack_search():\n",
    "    return backtrack(assignment, CSP_GRAPH)"
   ]
  },
  {
   "cell_type": "code",
   "execution_count": 27,
   "metadata": {},
   "outputs": [
    {
     "name": "stdout",
     "output_type": "stream",
     "text": [
      "{'WA': 'red', 'NT': 'blue', 'SA': 'green', 'Q': 'red', 'NSW': 'blue', 'V': 'red'}\n"
     ]
    }
   ],
   "source": [
    "solution = backtrack_search()\n",
    "print(solution)"
   ]
  },
  {
   "cell_type": "markdown",
   "metadata": {},
   "source": [
    "### Algorithm: Most Constraining Variable First\n",
    "Most constrained variable:\n",
    "choose the variable with the fewest remaining legal values\n",
    "* detect failure early!\n",
    "* reduces branching factor directly!\n",
    "\n",
    "![image](../images/csp_mostconfirst.png)"
   ]
  },
  {
   "cell_type": "code",
   "execution_count": 28,
   "metadata": {},
   "outputs": [],
   "source": [
    "def most_constraint_first(assignment, csp):\n",
    "    pass"
   ]
  }
 ],
 "metadata": {
  "kernelspec": {
   "display_name": "Python 3",
   "language": "python",
   "name": "python3"
  },
  "language_info": {
   "codemirror_mode": {
    "name": "ipython",
    "version": 3
   },
   "file_extension": ".py",
   "mimetype": "text/x-python",
   "name": "python",
   "nbconvert_exporter": "python",
   "pygments_lexer": "ipython3",
   "version": "3.11.8"
  }
 },
 "nbformat": 4,
 "nbformat_minor": 2
}
