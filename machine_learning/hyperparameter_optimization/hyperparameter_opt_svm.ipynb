{
 "cells": [
  {
   "cell_type": "code",
   "execution_count": 25,
   "metadata": {},
   "outputs": [],
   "source": [
    "import numpy as np\n",
    "import matplotlib.pyplot as plt\n",
    "\n",
    "from sklearn.svm import SVC\n",
    "from sklearn.preprocessing import StandardScaler\n",
    "\n",
    "from sklearn import datasets\n",
    "from sklearn.model_selection import train_test_split\n",
    "from sklearn.metrics import accuracy_score"
   ]
  },
  {
   "cell_type": "markdown",
   "metadata": {},
   "source": [
    "## Prepering the Dataset:"
   ]
  },
  {
   "cell_type": "code",
   "execution_count": 26,
   "metadata": {},
   "outputs": [],
   "source": [
    "seed = 42\n",
    "np.random.seed(seed)"
   ]
  },
  {
   "cell_type": "code",
   "execution_count": 27,
   "metadata": {},
   "outputs": [
    {
     "name": "stdout",
     "output_type": "stream",
     "text": [
      "Shape of X: (569, 30)\n",
      "Shape of y: (569,)\n"
     ]
    }
   ],
   "source": [
    "# Load dataset\n",
    "data = datasets.load_breast_cancer()\n",
    "X, y = data.data, data.target\n",
    "print(f'Shape of X: {X.shape}')\n",
    "print(f'Shape of y: {y.shape}')"
   ]
  },
  {
   "cell_type": "code",
   "execution_count": 28,
   "metadata": {},
   "outputs": [
    {
     "name": "stdout",
     "output_type": "stream",
     "text": [
      "Shape of X_train: (341, 30)\n",
      "Shape of y_train: (341,)\n",
      "---------------------------------\n",
      "Shape of X_val: (114, 30)\n",
      "Shape of y_val: (114,)\n",
      "---------------------------------\n",
      "Shape of X_test: (114, 30)\n",
      "Shape of y_test: (114,)\n"
     ]
    }
   ],
   "source": [
    "# Splitting for training sets (train: 60%, temporary: 40%)\n",
    "X_train, X_temp, y_train, y_temp = train_test_split(\n",
    "    X,\n",
    "    y,\n",
    "    train_size=0.6,\n",
    "    random_state=seed,\n",
    "    stratify=y)\n",
    "\n",
    "# Splitting for validation and testing sets (test: 20%, val: 20%)\n",
    "X_val, X_test, y_val, y_test = train_test_split(\n",
    "    X_temp,\n",
    "    y_temp,\n",
    "    train_size=0.5,\n",
    "    random_state=seed,\n",
    "    stratify=y_temp)\n",
    "\n",
    "# Preporcessing: Standardize features\n",
    "scaler = StandardScaler()\n",
    "X_train == scaler.fit_transform(X_train)\n",
    "X_val == scaler.fit_transform(X_val)\n",
    "X_test == scaler.fit_transform(X_test)\n",
    "\n",
    "print(f'Shape of X_train: {X_train.shape}')\n",
    "print(f'Shape of y_train: {y_train.shape}')\n",
    "print(f'---------------------------------')\n",
    "print(f'Shape of X_val: {X_val.shape}')\n",
    "print(f'Shape of y_val: {y_val.shape}')\n",
    "print(f'---------------------------------')\n",
    "print(f'Shape of X_test: {X_test.shape}')\n",
    "print(f'Shape of y_test: {y_test.shape}')"
   ]
  },
  {
   "cell_type": "markdown",
   "metadata": {},
   "source": [
    "## Train the SVM Model"
   ]
  },
  {
   "cell_type": "code",
   "execution_count": 29,
   "metadata": {},
   "outputs": [
    {
     "name": "stdout",
     "output_type": "stream",
     "text": [
      "validation accuracy: 0.9035087719298246\n"
     ]
    }
   ],
   "source": [
    "svm = SVC(random_state=seed)\n",
    "svm.fit(X_train, y_train)\n",
    "pred_val = svm.predict(X_val)\n",
    "acc_val = accuracy_score(y_val, pred_val)\n",
    "print(f'validation accuracy: {acc_val}')"
   ]
  },
  {
   "cell_type": "markdown",
   "metadata": {},
   "source": [
    "## Initial surrogate Model"
   ]
  },
  {
   "cell_type": "code",
   "execution_count": null,
   "metadata": {},
   "outputs": [],
   "source": []
  }
 ],
 "metadata": {
  "kernelspec": {
   "display_name": "Python 3",
   "language": "python",
   "name": "python3"
  },
  "language_info": {
   "codemirror_mode": {
    "name": "ipython",
    "version": 3
   },
   "file_extension": ".py",
   "mimetype": "text/x-python",
   "name": "python",
   "nbconvert_exporter": "python",
   "pygments_lexer": "ipython3",
   "version": "3.12.5"
  }
 },
 "nbformat": 4,
 "nbformat_minor": 2
}
