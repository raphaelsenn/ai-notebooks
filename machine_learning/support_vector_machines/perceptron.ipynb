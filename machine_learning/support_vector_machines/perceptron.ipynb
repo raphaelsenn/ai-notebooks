{
 "cells": [
  {
   "cell_type": "markdown",
   "metadata": {},
   "source": [
    "# The Perceptron\n",
    "\n",
    "## Motivation: We want to classify data using a linear decision boundary\n",
    "\n",
    "## Linear Hyperplane\n",
    "\n",
    "Let $\\mathbb{R}^{M}, M \\in \\mathbb{N}$ be a M-dimensional $\\mathbb{R}$ vector space.\n",
    "\n",
    "A linear hyperplane $H(w, w_{0}) := \\{x \\in \\mathbb{R}^{M} | w^{T}x + w_{0} = 0\\}$ is a sub-space with dimension one less then the dimension of the space $\\mathbb{R}^{M}$\n",
    "\n",
    "## A linear model for a linearly-separable binary classification\n",
    "\n",
    "* Features $x \\in \\mathbb{R}^{N \\times M}$\n",
    "* Target $y_{i} \\in \\{-1, 1\\}^{N}$\n",
    "\n",
    "\n",
    "## Perceptron: Linear Classification Model\n",
    "\n",
    "### Linear classification problem:\n",
    "\n",
    "$$\n",
    "\\Large \\text{$f(.;w,w_{0}): \\mathbb{R}^{M} \\longrightarrow \\{-1, 1\\}$ with parameters $w \\in \\mathbb{R}^{M}, w_{0} \\in \\mathbb{R}$}\n",
    "$$\n",
    "\n",
    "$$\n",
    "\\Large \\text{$ w^{*} = argmin_{w} \\sum_{i=1}^{N} Loss(y_{i}, f(.;w,w_{0}))$}\n",
    "$$\n",
    "\n",
    "### Linear model with a sign function:\n",
    "\n",
    "$$\n",
    "\\Large \\text{$f(x; w, w_{0}) := sign(w^{T}x + w_{0})$, with ${sign}(z) = \n",
    "\\begin{cases} \n",
    "      1 & z > 0 \\\\\n",
    "      0 & z = 0 \\\\\n",
    "      -1 & z < 0 \n",
    "   \\end{cases}$}\n",
    "$$\n",
    "\n",
    "## Geometric Interpretation of the Linear Classifier\n",
    "Classification errors can be formalized as:\n",
    "$$\n",
    "\\Large \\text{$ \\forall i: y_{i}(w^{T}x_{i}+w_{0}<0$, or $\\forall i: y_{i}sign(w^{T}x_{i}+w_{0})=-1$}\n",
    "$$\n",
    "\n",
    "## Optimizing the perceptron\n",
    "\n",
    "__Loss__ over miss-classified instances $y_{i} \\neq sign(w^{T}x_{i}+ w_{0})$ as:\n",
    "\n",
    "$$\n",
    "\\Large \\text{$ w^{*} = argmin_{w} \\sum_{i=1, y_{i}f(x_{i; w})=-1}^{N} y_{i}(w^{T}x_{i} + w_{0})$}\n",
    "$$\n",
    "\n",
    "\n",
    "$$\n",
    "\\Large \\text{Set $ L_{i} = Loss(y_{i}, f(x_{i}; w, w_{0}))$}\n",
    "$$\n",
    "\n",
    "Then we get the Gradient:\n",
    "\n",
    "$$\n",
    "\\Large \\text{$ \\frac{\\partial \\sum_{i} L_{i}}{\\partial w} = \\sum_{i=1, y_{i}f(x_{i}; w)=-1}^{N} -y_{i}x_{i}$}\n",
    "$$\n",
    "\n",
    "$$\n",
    "\\Large \\text{$ \\frac{\\partial \\sum_{i} L_{i}}{\\partial w_{0}} = \\sum_{i=1, y_{i}f(x_{i}; w)=-1}^{N} -y_{i}$}\n",
    "$$\n",
    "\n",
    "Updating Parameters by step $\\mu \\in \\mathbb{R}_{+}$ with $\\forall (x_{i}, y_{i}): y_{i}f(x_{i}; w)=-1$:\n",
    "\n",
    "$$\n",
    "\\Large \\text{$ w^{(t)} \\longleftarrow w^{(t-1)} + \\mu y_{i}x_{i} $}\n",
    "$$\n",
    "\n",
    "$$\n",
    "\\Large \\text{$ w_{0}^{(t)} \\longleftarrow w_{0}^{(t-1)} + \\mu y_{i} $}\n",
    "$$\n",
    "\n",
    "\n"
   ]
  },
  {
   "cell_type": "code",
   "execution_count": 159,
   "metadata": {},
   "outputs": [],
   "source": [
    "import numpy as np\n",
    "import matplotlib.pyplot as plt"
   ]
  },
  {
   "cell_type": "code",
   "execution_count": 160,
   "metadata": {},
   "outputs": [],
   "source": [
    "np.random.seed(42)"
   ]
  },
  {
   "cell_type": "code",
   "execution_count": 161,
   "metadata": {},
   "outputs": [],
   "source": [
    "# Parameters\n",
    "\n",
    "N = 50 # Number of points per class\n",
    "\n",
    "class_neg = np.random.randn(N, 2) + [-2, -2]\n",
    "labels_neg = -1 * np.ones(N)\n",
    "\n",
    "\n",
    "class_pos = np.random.randn(N, 2) + [2, 2]\n",
    "labels_pos = np.ones(N)\n",
    "\n",
    "X_continues = np.linspace(-5, 5, 1000)"
   ]
  },
  {
   "cell_type": "code",
   "execution_count": 162,
   "metadata": {},
   "outputs": [],
   "source": [
    "X = np.vstack((class_neg, class_pos))\n",
    "y = np.concatenate((labels_neg, labels_pos))"
   ]
  },
  {
   "cell_type": "code",
   "execution_count": 163,
   "metadata": {},
   "outputs": [
    {
     "data": {
      "image/png": "[encoded data removed]",
      "text/plain": [
       "<Figure size 640x480 with 1 Axes>"
      ]
     },
     "metadata": {},
     "output_type": "display_data"
    }
   ],
   "source": [
    "# Plot\n",
    "plt.scatter(X[y == -1][:, 0], X[y == -1][:, 1], color='red', label='Class -1')\n",
    "plt.scatter(X[y == 1][:, 0], X[y == 1][:, 1], color='blue', label='Class 1')\n",
    "plt.legend()\n",
    "plt.show()"
   ]
  },
  {
   "cell_type": "code",
   "execution_count": 164,
   "metadata": {},
   "outputs": [],
   "source": [
    "def plot_hyperplane(x:np.array, m: float, b: float) -> np.array:\n",
    "    return x * m + b"
   ]
  },
  {
   "cell_type": "code",
   "execution_count": 165,
   "metadata": {},
   "outputs": [],
   "source": [
    "class Perceptron:\n",
    "    def __init__(self, M: int) -> None:\n",
    "        self.w = np.random.rand(M)\n",
    "        self.w0 = np.random.rand(1)\n",
    "\n",
    "    def sign(self, z: float) -> int:\n",
    "        if z == 0: return 0 \n",
    "        elif z > 0: return 1\n",
    "        return -1\n",
    "\n",
    "    def train(self, X: np.array, y: np.array, learning_rate: float) -> None:\n",
    "        errors = 1\n",
    "        while errors > 0:\n",
    "            errors = 0\n",
    "            for i in range(len(y)):\n",
    "                z = np.dot(self.w, X[i]) + self.w0\n",
    "                if y[i] != self.sign(z):\n",
    "                    errors = errors + 1\n",
    "                    self.w = self.w + learning_rate * np.dot(y[i], X[i])\n",
    "                    self.w0 = self.w0 + learning_rate * y[i]"
   ]
  },
  {
   "cell_type": "code",
   "execution_count": 166,
   "metadata": {},
   "outputs": [],
   "source": [
    "perceptron = Perceptron(2)\n",
    "perceptron.train(X, y, learning_rate=0.1)"
   ]
  },
  {
   "cell_type": "code",
   "execution_count": 167,
   "metadata": {},
   "outputs": [
    {
     "name": "stdout",
     "output_type": "stream",
     "text": [
      "w: [0.87737307 0.74076862]\n",
      "w0: [0.69701574]\n"
     ]
    }
   ],
   "source": [
    "print(f\"w: {perceptron.w}\")\n",
    "print(f\"w0: {perceptron.w0}\")"
   ]
  },
  {
   "cell_type": "markdown",
   "metadata": {},
   "source": [
    "We got $w = (w_{1}, w_{2}) \\in \\mathbb{R}^{2} $ and $w_{0} \\in \\mathbb{R}$\n",
    "\n",
    "We get $f(x; w, w_{0}) = w^{T}x + w_{0} = w_{1} x_{1} + w_{2}x_{2} + w_{0}$\n",
    "\n",
    "$\\implies -w_{2}x_{2} =w_{1} x_{1} + w_{0} $\n",
    "\n",
    "$\\implies x_{2} = - (\\frac{w_{1}}{w_{2}}) x_{1} - \\frac{w_{0}}{w_{2}} $\n",
    "\n",
    "A linear function is given by $y = mx + b$\n",
    "\n",
    "Now set $y = x_2$, $m =- (\\frac{w_{1}}{w_{2}}) $ and $b =- \\frac{w_{0}}{w_{2}} $"
   ]
  },
  {
   "cell_type": "code",
   "execution_count": null,
   "metadata": {},
   "outputs": [],
   "source": [
    "# h = np.dot(w, x) + w0\n",
    "# h = (w_1 * x_1 + w_2 * x_2) + w0\n",
    "w = perceptron.w\n",
    "w0 = perceptron.w0\n",
    "\n",
    "slope = -(w[0] / w[1])\n",
    "intercept = -(w0 / w[1])"
   ]
  },
  {
   "cell_type": "code",
   "execution_count": 169,
   "metadata": {},
   "outputs": [
    {
     "data": {
      "image/png": "[encoded data removed]",
      "text/plain": [
       "<Figure size 640x480 with 1 Axes>"
      ]
     },
     "metadata": {},
     "output_type": "display_data"
    }
   ],
   "source": [
    "# Plot\n",
    "plt.scatter(X[y == -1][:, 0], X[y == -1][:, 1], color='red', label='Class -1')\n",
    "plt.scatter(X[y == 1][:, 0], X[y == 1][:, 1], color='blue', label='Class 1')\n",
    "plt.plot(X_continues, plot_hyperplane(X_continues, slope,intercept), color='green', label='Hyperplane')\n",
    "plt.legend()\n",
    "plt.show()"
   ]
  }
 ],
 "metadata": {
  "kernelspec": {
   "display_name": "Python 3",
   "language": "python",
   "name": "python3"
  },
  "language_info": {
   "codemirror_mode": {
    "name": "ipython",
    "version": 3
   },
   "file_extension": ".py",
   "mimetype": "text/x-python",
   "name": "python",
   "nbconvert_exporter": "python",
   "pygments_lexer": "ipython3",
   "version": "3.11.8"
  }
 },
 "nbformat": 4,
 "nbformat_minor": 2
}
