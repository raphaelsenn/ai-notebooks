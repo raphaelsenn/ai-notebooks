{
 "cells": [
  {
   "cell_type": "markdown",
   "metadata": {},
   "source": [
    "# Regression Error Measures\n",
    "\n",
    "### Scale-dependent errors:\n",
    "\n",
    "- **Mean Absolute Error (MAE):**\n",
    "  $$\n",
    "  MAE = \\frac{1}{N} \\sum_{n=1}^{N} |y_n - \\hat{y}_n|\n",
    "  $$\n",
    "\n",
    "- **Root Mean Square Error (RMSE):**\n",
    "  $$\n",
    "  RMSE = \\sqrt{\\frac{1}{N} \\sum_{n=1}^{N} (y_n - \\hat{y}_n)^2}\n",
    "  $$\n",
    "\n",
    "### Percentage errors are independent of scale:\n",
    "\n",
    "- **Mean Absolute Percentage Error (MAPE):**\n",
    "  $$\n",
    "  MAPE = \\frac{1}{N} \\sum_{n=1}^{N} \\left| \\frac{y_n - \\hat{y}_n}{y_n} \\right|\n",
    "  $$\n",
    "\n",
    "---\n",
    "\n",
    "## Fix MAPE\n",
    "\n",
    "- Percentage errors are **undefined** when \\( y_n = 0 \\) and produce **extreme values** when \\( y_n \\approx 0 \\).\n",
    "- A solution is to use **scaled errors** as an alternative to percentage errors.\n",
    "\n",
    "- **Mean Absolute Scaled Error (MASE):**\n",
    "  $$\n",
    "  MASE = \\frac{1}{N} \\sum_{n=1}^{N} \\left| \\frac{y_n - \\hat{y}_n}{\\frac{1}{N-1} \\sum_{n'=2}^{N} |y_{n'} - y_{n'-1}|} \\right|\n",
    "  $$\n",
    "\n",
    "- Both the numerator and denominator are on the **same scale**, but MASE **cannot be perceived percentually**.\n",
    "\n"
   ]
  },
  {
   "cell_type": "code",
   "execution_count": 76,
   "metadata": {},
   "outputs": [],
   "source": [
    "import numpy as np\n",
    "import matplotlib.pyplot as plt"
   ]
  },
  {
   "cell_type": "code",
   "execution_count": 77,
   "metadata": {},
   "outputs": [],
   "source": [
    "from sklearn.linear_model import LinearRegression\n",
    "from sklearn.datasets import make_regression\n",
    "from sklearn.model_selection import train_test_split"
   ]
  },
  {
   "cell_type": "code",
   "execution_count": 78,
   "metadata": {},
   "outputs": [],
   "source": [
    "X, y = make_regression()\n",
    "X_train, X_test, y_train, y_test = train_test_split(X, y, train_size=0.8)"
   ]
  },
  {
   "cell_type": "code",
   "execution_count": 79,
   "metadata": {},
   "outputs": [],
   "source": [
    "model = LinearRegression()\n",
    "model.fit(X_train, y_train)\n",
    "y_hat = model.predict(X_test)"
   ]
  },
  {
   "cell_type": "markdown",
   "metadata": {},
   "source": [
    "- **Mean Absolute Error (MAE):**\n",
    "  $$\n",
    "  MAE = \\frac{1}{N} \\sum_{n=1}^{N} |y_n - \\hat{y}_n|\n",
    "  $$"
   ]
  },
  {
   "cell_type": "code",
   "execution_count": 80,
   "metadata": {},
   "outputs": [],
   "source": [
    "def MAE(y: np.ndarray,\n",
    "        y_hat: np.ndarray) -> float:\n",
    "    return np.mean(np.abs(y - y_hat))"
   ]
  },
  {
   "cell_type": "markdown",
   "metadata": {},
   "source": [
    "- **Root Mean Square Error (RMSE):**\n",
    "  $$\n",
    "  RMSE = \\sqrt{\\frac{1}{N} \\sum_{n=1}^{N} (y_n - \\hat{y}_n)^2}\n",
    "  $$\n"
   ]
  },
  {
   "cell_type": "code",
   "execution_count": 81,
   "metadata": {},
   "outputs": [],
   "source": [
    "def RMSE(y: np.ndarray,\n",
    "         y_hat: np.ndarray) -> float:\n",
    "    return np.sqrt(np.mean((y - y_hat) ** 2))"
   ]
  },
  {
   "cell_type": "markdown",
   "metadata": {},
   "source": [
    "- **Mean Absolute Percentage Error (MAPE):**\n",
    "  $$\n",
    "  MAPE = \\frac{1}{N} \\sum_{n=1}^{N} \\left| \\frac{y_n - \\hat{y}_n}{y_n} \\right|\n",
    "  $$"
   ]
  },
  {
   "cell_type": "code",
   "execution_count": 82,
   "metadata": {},
   "outputs": [],
   "source": [
    "def MAPE(y: np.ndarray,\n",
    "        y_hat: np.ndarray) -> float:\n",
    "    return np.mean(np.abs((y - y_hat) / y_hat))"
   ]
  },
  {
   "cell_type": "markdown",
   "metadata": {},
   "source": [
    "- **Mean Absolute Scaled Error (MASE):**\n",
    "  $$\n",
    "  MASE = \\frac{1}{N} \\sum_{n=1}^{N} \\left| \\frac{y_n - \\hat{y}_n}{\\frac{1}{N-1} \\sum_{n'=2}^{N} |y_{n'} - y_{n'-1}|} \\right|\n",
    "  $$"
   ]
  },
  {
   "cell_type": "code",
   "execution_count": 83,
   "metadata": {},
   "outputs": [],
   "source": [
    "def MASE(y: np.ndarray,\n",
    "        y_hat: np.ndarray) -> float:\n",
    "    div = np.mean(np.abs(y[1:] - y[:-1]))\n",
    "    return np.mean(np.abs((y - y_hat) / div))"
   ]
  },
  {
   "cell_type": "code",
   "execution_count": 84,
   "metadata": {},
   "outputs": [],
   "source": [
    "mae = MAE(y_test, y_hat)\n",
    "rmse = RMSE(y_test, y_hat)\n",
    "mape = MAPE(y_test, y_hat)\n",
    "mase = MASE(y_test, y_hat)"
   ]
  },
  {
   "cell_type": "code",
   "execution_count": 85,
   "metadata": {},
   "outputs": [
    {
     "name": "stdout",
     "output_type": "stream",
     "text": [
      "MAE = 73.30664801427926\n",
      "RMSE = 91.99270529959463\n",
      "MAPE = 0.8962516177978974\n",
      "MASE = 0.428911837835573\n"
     ]
    }
   ],
   "source": [
    "print(f'MAE = {mae}')\n",
    "print(f'RMSE = {rmse}')\n",
    "print(f'MAPE = {mape}')\n",
    "print(f'MASE = {mase}')"
   ]
  }
 ],
 "metadata": {
  "kernelspec": {
   "display_name": "Python 3",
   "language": "python",
   "name": "python3"
  },
  "language_info": {
   "codemirror_mode": {
    "name": "ipython",
    "version": 3
   },
   "file_extension": ".py",
   "mimetype": "text/x-python",
   "name": "python",
   "nbconvert_exporter": "python",
   "pygments_lexer": "ipython3",
   "version": "3.12.5"
  }
 },
 "nbformat": 4,
 "nbformat_minor": 2
}
