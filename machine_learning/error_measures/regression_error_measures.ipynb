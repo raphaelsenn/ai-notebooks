{
 "cells": [
  {
   "cell_type": "markdown",
   "metadata": {},
   "source": [
    "# Regression Error Measures\n",
    "\n",
    "### Scale-dependent errors:\n",
    "\n",
    "- **Mean Absolute Error (MAE):**\n",
    "  $$\n",
    "  MAE = \\frac{1}{N} \\sum_{n=1}^{N} |y_n - \\hat{y}_n|\n",
    "  $$\n",
    "\n",
    "- **Root Mean Square Error (RMSE):**\n",
    "  $$\n",
    "  RMSE = \\sqrt{\\frac{1}{N} \\sum_{n=1}^{N} (y_n - \\hat{y}_n)^2}\n",
    "  $$\n",
    "\n",
    "### Percentage errors are independent of scale:\n",
    "\n",
    "- **Mean Absolute Percentage Error (MAPE):**\n",
    "  $$\n",
    "  MAPE = \\frac{1}{N} \\sum_{n=1}^{N} \\left| \\frac{y_n - \\hat{y}_n}{y_n} \\right|\n",
    "  $$\n",
    "\n",
    "---\n",
    "\n",
    "## Fix MAPE\n",
    "\n",
    "- Percentage errors are **undefined** when \\( y_n = 0 \\) and produce **extreme values** when \\( y_n \\approx 0 \\).\n",
    "- A solution is to use **scaled errors** as an alternative to percentage errors.\n",
    "\n",
    "- **Mean Absolute Scaled Error (MASE):**\n",
    "  $$\n",
    "  MASE = \\frac{1}{N} \\sum_{n=1}^{N} \\left| \\frac{y_n - \\hat{y}_n}{\\frac{1}{N-1} \\sum_{n'=2}^{N} |y_{n'} - y_{n'-1}|} \\right|\n",
    "  $$\n",
    "\n",
    "- Both the numerator and denominator are on the **same scale**, but MASE **cannot be perceived percentually**.\n",
    "\n"
   ]
  },
  {
   "cell_type": "code",
   "execution_count": 1,
   "metadata": {},
   "outputs": [],
   "source": [
    "import numpy as np\n",
    "import matplotlib.pyplot as plt"
   ]
  },
  {
   "cell_type": "code",
   "execution_count": 2,
   "metadata": {},
   "outputs": [],
   "source": [
    "from sklearn.linear_model import LinearRegression\n",
    "from sklearn.model_selection import train_test_split"
   ]
  },
  {
   "cell_type": "code",
   "execution_count": 3,
   "metadata": {},
   "outputs": [],
   "source": [
    "seed = 42\n",
    "np.random.seed(seed)"
   ]
  },
  {
   "cell_type": "code",
   "execution_count": 4,
   "metadata": {},
   "outputs": [],
   "source": [
    "# creating a syntetic regression dataset\n",
    "N_samples = 100\n",
    "mu = 0.25\n",
    "x_start, x_end = 0, 6\n",
    "\n",
    "# true target function, that give the ground truth shape of the data\n",
    "target = lambda x: 0.5 * x + 1\n",
    "\n",
    "# noise to the data\n",
    "noise = np.random.normal(0, mu, N_samples)\n",
    "\n",
    "X = np.linspace(x_start, x_end, N_samples)\n",
    "y = target(X) + noise\n",
    "\n",
    "X_train, X_test, y_train, y_test = train_test_split(X, y, train_size=0.8, random_state=seed)\n",
    "X_train, X_test = X_train.reshape(-1, 1), X_test.reshape(-1, 1)"
   ]
  },
  {
   "cell_type": "code",
   "execution_count": 5,
   "metadata": {},
   "outputs": [
    {
     "name": "stdout",
     "output_type": "stream",
     "text": [
      "Shape of X_train: (80, 1)\n",
      "Shape of y_train: (80,)\n"
     ]
    }
   ],
   "source": [
    "print(f'Shape of X_train: {X_train.shape}')\n",
    "print(f'Shape of y_train: {y_train.shape}')"
   ]
  },
  {
   "cell_type": "code",
   "execution_count": 6,
   "metadata": {},
   "outputs": [],
   "source": [
    "model = LinearRegression()\n",
    "model.fit(X_train, y_train)\n",
    "y_hat = model.predict(X_test)"
   ]
  },
  {
   "cell_type": "markdown",
   "metadata": {},
   "source": [
    "- **Mean Absolute Error (MAE):**\n",
    "  $$\n",
    "  MAE = \\frac{1}{N} \\sum_{n=1}^{N} |y_n - \\hat{y}_n|\n",
    "  $$"
   ]
  },
  {
   "cell_type": "code",
   "execution_count": 7,
   "metadata": {},
   "outputs": [],
   "source": [
    "def MAE(y: np.ndarray,\n",
    "        y_hat: np.ndarray) -> float:\n",
    "    return np.mean(np.abs(y - y_hat))"
   ]
  },
  {
   "cell_type": "markdown",
   "metadata": {},
   "source": [
    "- **Root Mean Square Error (RMSE):**\n",
    "  $$\n",
    "  RMSE = \\sqrt{\\frac{1}{N} \\sum_{n=1}^{N} (y_n - \\hat{y}_n)^2}\n",
    "  $$\n"
   ]
  },
  {
   "cell_type": "code",
   "execution_count": 8,
   "metadata": {},
   "outputs": [],
   "source": [
    "def RMSE(y: np.ndarray,\n",
    "         y_hat: np.ndarray) -> float:\n",
    "    return np.sqrt(np.mean((y - y_hat) ** 2))"
   ]
  },
  {
   "cell_type": "markdown",
   "metadata": {},
   "source": [
    "- **Mean Absolute Percentage Error (MAPE):**\n",
    "  $$\n",
    "  MAPE = \\frac{1}{N} \\sum_{n=1}^{N} \\left| \\frac{y_n - \\hat{y}_n}{y_n} \\right|\n",
    "  $$"
   ]
  },
  {
   "cell_type": "code",
   "execution_count": 9,
   "metadata": {},
   "outputs": [],
   "source": [
    "def MAPE(y: np.ndarray,\n",
    "        y_hat: np.ndarray) -> float:\n",
    "    mask = y != 0\n",
    "    return np.mean(np.abs((y[mask] - y_hat[mask]) / y[mask]))"
   ]
  },
  {
   "cell_type": "markdown",
   "metadata": {},
   "source": [
    "- **Mean Absolute Scaled Error (MASE):**\n",
    "  $$\n",
    "  MASE = \\frac{1}{N} \\sum_{n=1}^{N} \\left| \\frac{y_n - \\hat{y}_n}{\\frac{1}{N-1} \\sum_{n'=2}^{N} |y_{n'} - y_{n'-1}|} \\right|\n",
    "  $$"
   ]
  },
  {
   "cell_type": "code",
   "execution_count": 10,
   "metadata": {},
   "outputs": [],
   "source": [
    "def MASE(y: np.ndarray,\n",
    "        y_hat: np.ndarray) -> float:\n",
    "    naive_error = np.mean(np.abs(y[1:] - y[:-1]))\n",
    "    \n",
    "    if naive_error == 0:\n",
    "        naive_error = np.inf \n",
    "    \n",
    "    return np.mean(np.abs((y - y_hat) / naive_error))"
   ]
  },
  {
   "cell_type": "code",
   "execution_count": 11,
   "metadata": {},
   "outputs": [],
   "source": [
    "mae = MAE(y_test, y_hat)\n",
    "rmse = RMSE(y_test, y_hat)\n",
    "mape = MAPE(y_test, y_hat)\n",
    "mase = MASE(y_test, y_hat)"
   ]
  },
  {
   "cell_type": "code",
   "execution_count": 12,
   "metadata": {},
   "outputs": [
    {
     "name": "stdout",
     "output_type": "stream",
     "text": [
      "MAE = 0.15032808687457802\n",
      "RMSE = 0.19717413659792235\n",
      "MAPE = 0.07272993216545724\n",
      "MASE = 0.13431269420012668\n"
     ]
    }
   ],
   "source": [
    "print(f'MAE = {mae}')\n",
    "print(f'RMSE = {rmse}')\n",
    "print(f'MAPE = {mape}')\n",
    "print(f'MASE = {mase}')"
   ]
  }
 ],
 "metadata": {
  "kernelspec": {
   "display_name": "Python 3",
   "language": "python",
   "name": "python3"
  },
  "language_info": {
   "codemirror_mode": {
    "name": "ipython",
    "version": 3
   },
   "file_extension": ".py",
   "mimetype": "text/x-python",
   "name": "python",
   "nbconvert_exporter": "python",
   "pygments_lexer": "ipython3",
   "version": "3.12.5"
  }
 },
 "nbformat": 4,
 "nbformat_minor": 2
}
