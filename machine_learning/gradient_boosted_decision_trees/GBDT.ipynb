{
 "cells": [
  {
   "cell_type": "markdown",
   "metadata": {},
   "source": [
    "# Gradient-Boosted Decision Trees\n",
    "\n",
    "![image](../../images/GBDT.png)"
   ]
  },
  {
   "cell_type": "code",
   "execution_count": 1,
   "metadata": {},
   "outputs": [],
   "source": [
    "import numpy as np\n",
    "import matplotlib.pyplot as plt\n",
    "\n",
    "from sklearn.ensemble import GradientBoostingClassifier\n",
    "from sklearn.inspection import DecisionBoundaryDisplay\n",
    "\n",
    "from sklearn.datasets import load_iris\n",
    "from sklearn.model_selection import train_test_split\n",
    "from sklearn.metrics import accuracy_score"
   ]
  },
  {
   "cell_type": "code",
   "execution_count": 2,
   "metadata": {},
   "outputs": [
    {
     "name": "stdout",
     "output_type": "stream",
     "text": [
      "Shape of X_train: (105, 4)\n",
      "Shape of y_train: (105,)\n",
      "Shape of X_test: (45, 4)\n",
      "Shape of y_test: (45,)\n"
     ]
    }
   ],
   "source": [
    "# Load iris data\n",
    "X, y = load_iris(return_X_y=True)\n",
    "\n",
    "# Splitting for training and testing sets\n",
    "X_train, X_test, y_train, y_test = train_test_split(X, y, train_size=0.7)\n",
    "print(f'Shape of X_train: {X_train.shape}')\n",
    "print(f'Shape of y_train: {y_train.shape}')\n",
    "print(f'Shape of X_test: {X_test.shape}')\n",
    "print(f'Shape of y_test: {y_test.shape}')"
   ]
  },
  {
   "cell_type": "code",
   "execution_count": 3,
   "metadata": {},
   "outputs": [],
   "source": [
    "def create_fit_predict_gbdt(\n",
    "        n_estimators: int,\n",
    "        X_train: np.ndarray,\n",
    "        y_train: np.ndarray,\n",
    "        X_test: np.ndarray\n",
    "        ) -> tuple[GradientBoostingClassifier, np.ndarray]:\n",
    "\n",
    "    # Create a GB Classifier object\n",
    "    classifier = GradientBoostingClassifier(\n",
    "        n_estimators=n_estimators,\n",
    "        max_depth=1,\n",
    "        criterion='squared_error',\n",
    "        min_samples_leaf=1)\n",
    "\n",
    "    # Train the classifier\n",
    "    classifier.fit(X_train, y_train)\n",
    "\n",
    "    # Predict\n",
    "    y_hat = classifier.predict(X_test)\n",
    "\n",
    "    return classifier, y_hat"
   ]
  },
  {
   "cell_type": "code",
   "execution_count": 4,
   "metadata": {},
   "outputs": [
    {
     "name": "stdout",
     "output_type": "stream",
     "text": [
      "n_estimators:   1\tacc: 0.6\n",
      "n_estimators:   3\tacc: 0.9555555555555556\n",
      "n_estimators:   5\tacc: 0.9555555555555556\n",
      "n_estimators:  10\tacc: 0.9555555555555556\n",
      "n_estimators:  20\tacc: 0.9555555555555556\n",
      "n_estimators:  40\tacc: 0.9555555555555556\n",
      "n_estimators:  50\tacc: 0.9555555555555556\n",
      "n_estimators: 100\tacc: 0.9555555555555556\n",
      "n_estimators: 200\tacc: 0.9333333333333333\n",
      "n_estimators: 500\tacc: 0.8888888888888888\n"
     ]
    }
   ],
   "source": [
    "n_samples = [1, 3, 5, 10, 20, 40, 50, 100, 200, 500]\n",
    "\n",
    "results = {n: create_fit_predict_gbdt(n_estimators=n,\n",
    "                                      X_train=X_train,\n",
    "                                      y_train=y_train,\n",
    "                                      X_test=X_test) for n in n_samples}\n",
    "\n",
    "for n, (classifier, pred) in results.items():\n",
    "    acc = accuracy_score(y_test, pred)\n",
    "    print(f'n_estimators: {n:>3d}\\tacc: {acc}')"
   ]
  }
 ],
 "metadata": {
  "kernelspec": {
   "display_name": "Python 3",
   "language": "python",
   "name": "python3"
  },
  "language_info": {
   "codemirror_mode": {
    "name": "ipython",
    "version": 3
   },
   "file_extension": ".py",
   "mimetype": "text/x-python",
   "name": "python",
   "nbconvert_exporter": "python",
   "pygments_lexer": "ipython3",
   "version": "3.12.5"
  }
 },
 "nbformat": 4,
 "nbformat_minor": 2
}
