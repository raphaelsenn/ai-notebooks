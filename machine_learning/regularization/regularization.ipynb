{
 "cells": [
  {
   "cell_type": "markdown",
   "metadata": {},
   "source": [
    "# Regularization\n",
    "\n",
    "## The choice of our model complexity will either:\n",
    "$$\n",
    "\\Large \\text{increase the bias $\\longrightarrow$ decrease the variance}\n",
    "$$\n",
    "\n",
    "$$\n",
    "\\Large \\text{increase the variance $\\longrightarrow$ decrease the bias}\n",
    "$$\n",
    "\n",
    "<div align=\"center\">\n",
    "\n",
    "| Term | High | Low |\n",
    "| ------| ------- | ---------|\n",
    "|Variance| Risk of overfitting | Generalization |\n",
    "|Bias| Risk of underfitting | Fitting |\n",
    "|Noise| Challenge | Easy |\n",
    "\n",
    "</div>\n",
    "\n",
    "#### __Goal__: Find a model complexity that has both low bias (able to fit well) and low variance (able to generalize)\n",
    "\n",
    "## Weight Decay L1/L2 Regularization\n",
    "\n",
    "### Idea:\n",
    "\n",
    "Add a penalty term to the emperical risk:\n",
    "\n",
    "$$\n",
    "\\Large \\text{$argmin_{w}[\\frac{1}{N} \\sum_{i=1}^{N} L(y_{i}, f(x_{i}; w))] + \\alpha \\Omega(w)$}\n",
    "$$\n",
    "\n",
    "The regularization penalizes high parameter values:\n",
    "\n",
    "$$\n",
    "\\Large \\text{L1: $\\Omega(w) = \\frac{1}{|w|} \\sum_{i=1}^{|w|} |w_{i}|$}\n",
    "$$\n",
    "\n",
    "$$\n",
    "\\Large \\text{L2: $\\Omega(w) = \\frac{1}{|w|} \\sum_{i=1}^{|w|} w_{i}^2$}\n",
    "$$"
   ]
  }
 ],
 "metadata": {
  "language_info": {
   "name": "python"
  }
 },
 "nbformat": 4,
 "nbformat_minor": 2
}
