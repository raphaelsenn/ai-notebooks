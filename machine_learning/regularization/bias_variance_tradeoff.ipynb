{
 "cells": [
  {
   "cell_type": "markdown",
   "metadata": {},
   "source": [
    "# Bias-Variance Tradeoff\n",
    "\n",
    "A training dataset is represented as: $ \\mathcal{D} \\{(x_i, y_i)\\}_{i=1}^N $\n",
    "\n",
    "where the data points $(x_i, y_i)$ are drawn i.i.d. from a distribution $P$.\n",
    "\n",
    "The __Expected target__ of y given x is\n",
    "\n",
    "$$\n",
    "\\Large \\text{$\\hat{y}(x) = E_{y|x}[y] = \\int_{y} p(y|x) dy $}\n",
    "$$"
   ]
  },
  {
   "cell_type": "code",
   "execution_count": null,
   "metadata": {},
   "outputs": [],
   "source": [
    "# Import dependencies\n",
    "import numpy as np\n",
    "import matplotlib.pyplot as plt"
   ]
  }
 ],
 "metadata": {
  "kernelspec": {
   "display_name": "Python 3",
   "language": "python",
   "name": "python3"
  },
  "language_info": {
   "codemirror_mode": {
    "name": "ipython",
    "version": 3
   },
   "file_extension": ".py",
   "mimetype": "text/x-python",
   "name": "python",
   "nbconvert_exporter": "python",
   "pygments_lexer": "ipython3",
   "version": "3.11.8"
  }
 },
 "nbformat": 4,
 "nbformat_minor": 2
}
