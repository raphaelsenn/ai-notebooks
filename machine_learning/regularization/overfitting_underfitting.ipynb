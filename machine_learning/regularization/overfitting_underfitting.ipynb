{
 "cells": [
  {
   "cell_type": "markdown",
   "metadata": {},
   "source": [
    "## The choice of our model complexity will either:\n",
    "$$\n",
    "\\Large \\text{increase the bias $\\longrightarrow$ decrease the variance}\n",
    "$$\n",
    "\n",
    "$$\n",
    "\\Large \\text{increase the variance $\\longrightarrow$ decrease the bias}\n",
    "$$\n",
    "\n",
    "\n",
    "| Term | High | Low |\n",
    "| ------| ------- | ---------|\n",
    "|Variance| Risk of overfitting | Generalization |\n",
    "|Bias| Risk of underfitting | Fitting |\n",
    "|Noise| Challenge | Easy |\n",
    "\n",
    "## Goal:\n",
    "\n",
    "Find a model complexity that has both Low bias (able to fit well) and low variance (able to generalize)\n",
    "\n"
   ]
  }
 ],
 "metadata": {
  "kernelspec": {
   "display_name": "Python 3",
   "language": "python",
   "name": "python3"
  },
  "language_info": {
   "codemirror_mode": {
    "name": "ipython",
    "version": 3
   },
   "file_extension": ".py",
   "mimetype": "text/x-python",
   "name": "python",
   "nbconvert_exporter": "python",
   "pygments_lexer": "ipython3",
   "version": "3.11.8"
  }
 },
 "nbformat": 4,
 "nbformat_minor": 2
}
