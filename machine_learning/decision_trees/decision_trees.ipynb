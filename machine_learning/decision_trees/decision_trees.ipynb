{
 "cells": [
  {
   "cell_type": "markdown",
   "metadata": {},
   "source": [
    "# Decision Trees\n",
    "\n",
    "Consider a dataset $D := \\{(x_i, y_i)\\}_{i=1}^{N} \\subset (X \\times Y)^{N}$\n",
    "\n",
    "Partition the feature space $X$ into regions $R_1, ..., R_J$\n",
    "\n",
    "For each $R_j$ aggregate a constant prediction model\n",
    "\n",
    "$$\n",
    "\\large \\text{$\\hat{y}^{R_j} = aggregate(\\pi_y(\\{(x, y) \\in D | x \\in R_j\\}))$}\n",
    "$$\n",
    "\n",
    "Mathematically, a decision tree/regression tree $f(x)$ is specified by\n",
    "\n",
    "$$\n",
    "\\large \\text{$(R_1, ..., R_J, \\hat{y}^{R_1}, ..., \\hat{y}^{R_J})$}\n",
    "$$\n",
    "\n",
    "### Tree Prediction\n",
    "\n",
    "The prediction of a decision/regression tree with parameters  \n",
    "\n",
    "$\\theta = \\langle R_1, \\ldots, R_J, \\hat{y}(R_1), \\ldots, \\hat{y}(R_J) \\rangle$ is  \n",
    "\n",
    "$$\n",
    "f(x; \\theta) = \\sum_{j=1}^{J} \\hat{y}(R_j) \\cdot \\mathbb{1}(x \\in R_j)\n",
    "$$\n",
    "\n",
    "Here, $\\mathbb{1}(\\cdot)$ is the indicator function:  \n",
    "\n",
    "$$\n",
    "\\mathbb{1}(a) := \n",
    "\\begin{cases} \n",
    "1 & \\text{if } a = \\top \\\\\n",
    "0 & \\text{otherwise} \n",
    "\\end{cases}\n",
    "$$\n"
   ]
  },
  {
   "cell_type": "markdown",
   "metadata": {},
   "source": []
  }
 ],
 "metadata": {
  "language_info": {
   "name": "python"
  }
 },
 "nbformat": 4,
 "nbformat_minor": 2
}
